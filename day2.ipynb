{
 "cells": [
  {
   "cell_type": "code",
   "execution_count": 96,
   "id": "0b5da81e-8df5-44a5-a7a5-e048b5eebba1",
   "metadata": {},
   "outputs": [],
   "source": [
    "import warnings\n",
    "warnings.filterwarnings('ignore')"
   ]
  },
  {
   "cell_type": "code",
   "execution_count": 1,
   "id": "3483d513-949f-4793-a46e-1cb60f111013",
   "metadata": {},
   "outputs": [],
   "source": [
    "name = \"Suraj\""
   ]
  },
  {
   "cell_type": "code",
   "execution_count": 2,
   "id": "9f0f14e7-1021-4e47-ad69-aff278816317",
   "metadata": {},
   "outputs": [
    {
     "data": {
      "text/plain": [
       "'S'"
      ]
     },
     "execution_count": 2,
     "metadata": {},
     "output_type": "execute_result"
    }
   ],
   "source": [
    "name[0]"
   ]
  },
  {
   "cell_type": "code",
   "execution_count": 3,
   "id": "f4f01485-a860-4392-a97f-0f1d73bab756",
   "metadata": {},
   "outputs": [
    {
     "data": {
      "text/plain": [
       "'j'"
      ]
     },
     "execution_count": 3,
     "metadata": {},
     "output_type": "execute_result"
    }
   ],
   "source": [
    "name[-1]"
   ]
  },
  {
   "cell_type": "code",
   "execution_count": 6,
   "id": "abf1a60b-589f-41aa-ae7d-87a298ddb65a",
   "metadata": {},
   "outputs": [
    {
     "data": {
      "text/plain": [
       "'Sr'"
      ]
     },
     "execution_count": 6,
     "metadata": {},
     "output_type": "execute_result"
    }
   ],
   "source": [
    "name[0:3:2]"
   ]
  },
  {
   "cell_type": "code",
   "execution_count": 7,
   "id": "27ed0a64-e18d-4f14-85b8-5c947e9b0b20",
   "metadata": {},
   "outputs": [
    {
     "data": {
      "text/plain": [
       "'Suraj'"
      ]
     },
     "execution_count": 7,
     "metadata": {},
     "output_type": "execute_result"
    }
   ],
   "source": [
    "name[:]"
   ]
  },
  {
   "cell_type": "code",
   "execution_count": 9,
   "id": "2437e9d0-822e-49e8-8c56-425a90185c1a",
   "metadata": {},
   "outputs": [
    {
     "data": {
      "text/plain": [
       "'uraj'"
      ]
     },
     "execution_count": 9,
     "metadata": {},
     "output_type": "execute_result"
    }
   ],
   "source": [
    "name[1:]"
   ]
  },
  {
   "cell_type": "code",
   "execution_count": 16,
   "id": "1e4ee321-ad3f-48c8-818b-3a039b3f38da",
   "metadata": {},
   "outputs": [],
   "source": [
    "# Other data types - lists, tuples\n",
    "# dict\n",
    "# sets and frozen sets"
   ]
  },
  {
   "cell_type": "code",
   "execution_count": 17,
   "id": "cbc2662e-d92a-485e-a04f-ca2eb2f9cac9",
   "metadata": {},
   "outputs": [],
   "source": [
    "names = ['Suraj', 'Doe']"
   ]
  },
  {
   "cell_type": "code",
   "execution_count": 19,
   "id": "7d96fa35-3c81-4dbd-bbbe-3e5b1c71fd58",
   "metadata": {},
   "outputs": [],
   "source": [
    "numbers_strings = ['Abc', 1, names]"
   ]
  },
  {
   "cell_type": "code",
   "execution_count": 24,
   "id": "f921f5a9-027d-4496-b2e1-d4ac465dffcf",
   "metadata": {},
   "outputs": [
    {
     "data": {
      "text/plain": [
       "'Doe'"
      ]
     },
     "execution_count": 24,
     "metadata": {},
     "output_type": "execute_result"
    }
   ],
   "source": [
    "numbers_strings[2][1]"
   ]
  },
  {
   "cell_type": "code",
   "execution_count": 26,
   "id": "992989ba-6e3c-4c1a-b908-622293f355be",
   "metadata": {},
   "outputs": [],
   "source": [
    "names.append('John')"
   ]
  },
  {
   "cell_type": "code",
   "execution_count": 27,
   "id": "5a3fdcb2-bb3a-4243-870a-2bb38f7c440d",
   "metadata": {},
   "outputs": [
    {
     "data": {
      "text/plain": [
       "['Suraj', 'Doe', 'John']"
      ]
     },
     "execution_count": 27,
     "metadata": {},
     "output_type": "execute_result"
    }
   ],
   "source": [
    "names"
   ]
  },
  {
   "cell_type": "code",
   "execution_count": 28,
   "id": "651ddd7a-1d6f-4a08-a079-2a54fafe5081",
   "metadata": {},
   "outputs": [],
   "source": [
    "names_2 = ['Jane', 'Mary']"
   ]
  },
  {
   "cell_type": "code",
   "execution_count": 29,
   "id": "7b4dfb44-dabb-46aa-be2b-e89a3f1f247a",
   "metadata": {},
   "outputs": [],
   "source": [
    "names.extend(names_2)"
   ]
  },
  {
   "cell_type": "code",
   "execution_count": 30,
   "id": "edc6e415-87f8-412d-8a62-43b105b25090",
   "metadata": {},
   "outputs": [
    {
     "data": {
      "text/plain": [
       "['Suraj', 'Doe', 'John', 'Jane', 'Mary']"
      ]
     },
     "execution_count": 30,
     "metadata": {},
     "output_type": "execute_result"
    }
   ],
   "source": [
    "names"
   ]
  },
  {
   "cell_type": "code",
   "execution_count": 31,
   "id": "73bc32eb-ac97-4db2-8f68-7b61de42dfab",
   "metadata": {},
   "outputs": [],
   "source": [
    "names.sort()"
   ]
  },
  {
   "cell_type": "code",
   "execution_count": 33,
   "id": "ffed1452-b532-43b5-ade9-1605480842c2",
   "metadata": {},
   "outputs": [
    {
     "data": {
      "text/plain": [
       "['Doe', 'Jane', 'John', 'Mary', 'Suraj']"
      ]
     },
     "execution_count": 33,
     "metadata": {},
     "output_type": "execute_result"
    }
   ],
   "source": [
    "names"
   ]
  },
  {
   "cell_type": "code",
   "execution_count": 35,
   "id": "ff64ee43-d4d2-47b7-9364-4a23cfdf08cd",
   "metadata": {},
   "outputs": [],
   "source": [
    "names_tup = ('Jane', 'Mary')"
   ]
  },
  {
   "cell_type": "code",
   "execution_count": 37,
   "id": "a2260b0f-8bd0-4027-92d2-86169f294864",
   "metadata": {},
   "outputs": [],
   "source": [
    "names_location_map = {\n",
    "    \"Jane\": \"USA\",\n",
    "    \"Mary\": \"Europe\"\n",
    "}"
   ]
  },
  {
   "cell_type": "code",
   "execution_count": 42,
   "id": "8674b17d-1032-4e56-b724-b076e6e620fc",
   "metadata": {},
   "outputs": [
    {
     "data": {
      "text/plain": [
       "['USA', 'Europe']"
      ]
     },
     "execution_count": 42,
     "metadata": {},
     "output_type": "execute_result"
    }
   ],
   "source": [
    "list(names_location_map.values())"
   ]
  },
  {
   "cell_type": "code",
   "execution_count": 43,
   "id": "9eedd07b-6e3c-4da1-bc27-92a8f0fc938f",
   "metadata": {},
   "outputs": [],
   "source": [
    "name_new = \"John\""
   ]
  },
  {
   "cell_type": "code",
   "execution_count": 44,
   "id": "2d8ac519-81b8-4a1d-bb2a-a0819dddb21d",
   "metadata": {},
   "outputs": [
    {
     "data": {
      "text/plain": [
       "False"
      ]
     },
     "execution_count": 44,
     "metadata": {},
     "output_type": "execute_result"
    }
   ],
   "source": [
    "name_new in names_location_map"
   ]
  },
  {
   "cell_type": "code",
   "execution_count": 45,
   "id": "4b21c56b-a8c4-4549-89ec-0b30d6119fdb",
   "metadata": {},
   "outputs": [
    {
     "data": {
      "text/plain": [
       "True"
      ]
     },
     "execution_count": 45,
     "metadata": {},
     "output_type": "execute_result"
    }
   ],
   "source": [
    "name_new in names"
   ]
  },
  {
   "cell_type": "code",
   "execution_count": 49,
   "id": "d2096179-6d27-4dda-ac80-35f664615033",
   "metadata": {},
   "outputs": [],
   "source": [
    "names_location_map_second = {\n",
    "    \"John\": \"India\",\n",
    "    \"Mary\": \"India\"\n",
    "}"
   ]
  },
  {
   "cell_type": "code",
   "execution_count": 50,
   "id": "83a49d01-993d-4f96-9c8e-9549b4d4a04b",
   "metadata": {},
   "outputs": [],
   "source": [
    "names_location_map.update(names_location_map_second)"
   ]
  },
  {
   "cell_type": "code",
   "execution_count": 51,
   "id": "83c6e7db-75c3-42f1-bd3b-b14e83f06752",
   "metadata": {},
   "outputs": [
    {
     "name": "stdout",
     "output_type": "stream",
     "text": [
      "{'Jane': 'USA', 'Mary': 'India', 'John': 'India'}\n"
     ]
    }
   ],
   "source": [
    "print(names_location_map)"
   ]
  },
  {
   "cell_type": "code",
   "execution_count": 52,
   "id": "2376dc53-5f8d-439f-8897-62b02c33f372",
   "metadata": {},
   "outputs": [
    {
     "data": {
      "text/plain": [
       "'India'"
      ]
     },
     "execution_count": 52,
     "metadata": {},
     "output_type": "execute_result"
    }
   ],
   "source": [
    "names_location_map.pop(\"Mary\")"
   ]
  },
  {
   "cell_type": "code",
   "execution_count": 53,
   "id": "0493bf91-1d87-436c-b066-00f0ec4bd0f6",
   "metadata": {},
   "outputs": [
    {
     "data": {
      "text/plain": [
       "{'Jane': 'USA', 'John': 'India'}"
      ]
     },
     "execution_count": 53,
     "metadata": {},
     "output_type": "execute_result"
    }
   ],
   "source": [
    "names_location_map"
   ]
  },
  {
   "cell_type": "code",
   "execution_count": 54,
   "id": "03f958e3-d543-4c78-9599-248c56f52231",
   "metadata": {},
   "outputs": [],
   "source": [
    "numbers = [1,1,2,3,4,5,5,6,7]"
   ]
  },
  {
   "cell_type": "code",
   "execution_count": 58,
   "id": "c6538e4d-9abe-4057-807f-98428a0fff79",
   "metadata": {},
   "outputs": [],
   "source": [
    "numbers_unique = list(set(numbers))"
   ]
  },
  {
   "cell_type": "code",
   "execution_count": 59,
   "id": "bb28a11a-25cb-4be4-9d0f-19bc213725a4",
   "metadata": {},
   "outputs": [
    {
     "data": {
      "text/plain": [
       "[1, 2, 3, 4, 5, 6, 7]"
      ]
     },
     "execution_count": 59,
     "metadata": {},
     "output_type": "execute_result"
    }
   ],
   "source": [
    "numbers_unique"
   ]
  },
  {
   "cell_type": "code",
   "execution_count": 57,
   "id": "08573140-b1b5-42e8-942f-6414376bf75a",
   "metadata": {},
   "outputs": [
    {
     "data": {
      "text/plain": [
       "['__and__',\n",
       " '__class__',\n",
       " '__class_getitem__',\n",
       " '__contains__',\n",
       " '__delattr__',\n",
       " '__dir__',\n",
       " '__doc__',\n",
       " '__eq__',\n",
       " '__format__',\n",
       " '__ge__',\n",
       " '__getattribute__',\n",
       " '__getstate__',\n",
       " '__gt__',\n",
       " '__hash__',\n",
       " '__iand__',\n",
       " '__init__',\n",
       " '__init_subclass__',\n",
       " '__ior__',\n",
       " '__isub__',\n",
       " '__iter__',\n",
       " '__ixor__',\n",
       " '__le__',\n",
       " '__len__',\n",
       " '__lt__',\n",
       " '__ne__',\n",
       " '__new__',\n",
       " '__or__',\n",
       " '__rand__',\n",
       " '__reduce__',\n",
       " '__reduce_ex__',\n",
       " '__repr__',\n",
       " '__ror__',\n",
       " '__rsub__',\n",
       " '__rxor__',\n",
       " '__setattr__',\n",
       " '__sizeof__',\n",
       " '__str__',\n",
       " '__sub__',\n",
       " '__subclasshook__',\n",
       " '__xor__',\n",
       " 'add',\n",
       " 'clear',\n",
       " 'copy',\n",
       " 'difference',\n",
       " 'difference_update',\n",
       " 'discard',\n",
       " 'intersection',\n",
       " 'intersection_update',\n",
       " 'isdisjoint',\n",
       " 'issubset',\n",
       " 'issuperset',\n",
       " 'pop',\n",
       " 'remove',\n",
       " 'symmetric_difference',\n",
       " 'symmetric_difference_update',\n",
       " 'union',\n",
       " 'update']"
      ]
     },
     "execution_count": 57,
     "metadata": {},
     "output_type": "execute_result"
    }
   ],
   "source": [
    "dir(numbers_unique)"
   ]
  },
  {
   "cell_type": "code",
   "execution_count": 66,
   "id": "ac21c13e-f784-4dc1-b590-57f64d2289ed",
   "metadata": {},
   "outputs": [],
   "source": [
    "names.sort(reverse = True)"
   ]
  },
  {
   "cell_type": "code",
   "execution_count": 67,
   "id": "a44a8c6d-9c06-47a6-86c8-cde1ab757135",
   "metadata": {},
   "outputs": [
    {
     "name": "stdout",
     "output_type": "stream",
     "text": [
      "['Suraj', 'Mary', 'John', 'Jane', 'Doe']\n"
     ]
    }
   ],
   "source": [
    "print(names)"
   ]
  },
  {
   "cell_type": "code",
   "execution_count": 63,
   "id": "0b55e34a-cadc-4bdc-97c4-75ce902f6f04",
   "metadata": {},
   "outputs": [
    {
     "data": {
      "text/plain": [
       "<function list.sort(*, key=None, reverse=False)>"
      ]
     },
     "execution_count": 63,
     "metadata": {},
     "output_type": "execute_result"
    }
   ],
   "source": [
    "names.sort"
   ]
  },
  {
   "cell_type": "code",
   "execution_count": 79,
   "id": "b5570419-864b-42bf-a90c-62dac0aea510",
   "metadata": {},
   "outputs": [
    {
     "data": {
      "text/plain": [
       "{'Jane': 'USA', 'John': 'USA'}"
      ]
     },
     "execution_count": 79,
     "metadata": {},
     "output_type": "execute_result"
    }
   ],
   "source": [
    "names_location_map"
   ]
  },
  {
   "cell_type": "code",
   "execution_count": 80,
   "id": "b5814e23-0662-48d5-a872-ac223871d586",
   "metadata": {},
   "outputs": [
    {
     "name": "stdout",
     "output_type": "stream",
     "text": [
      "Data inserted for John\n"
     ]
    }
   ],
   "source": [
    "if \"John\" in names_location_map and names_location_map['John'] == 'India':\n",
    "    print(\"Data exists for John\")\n",
    "else:\n",
    "    names_location_map.update({\"John\": \"USA\"})\n",
    "    print(\"Data inserted for John\")"
   ]
  },
  {
   "cell_type": "code",
   "execution_count": 76,
   "id": "7f8fe3af-b190-4bd2-a102-e27759529283",
   "metadata": {},
   "outputs": [
    {
     "data": {
      "text/plain": [
       "'India'"
      ]
     },
     "execution_count": 76,
     "metadata": {},
     "output_type": "execute_result"
    }
   ],
   "source": [
    "names_location_map.pop(\"John\")"
   ]
  },
  {
   "cell_type": "code",
   "execution_count": 81,
   "id": "cbd6c117-1ef2-4a8e-b936-559679adf478",
   "metadata": {},
   "outputs": [],
   "source": [
    "flag = True if \"John\" in names_location_map else False # Inline if condition"
   ]
  },
  {
   "cell_type": "code",
   "execution_count": 83,
   "id": "7edd07c0-44fe-4021-9754-f6a11d2632a1",
   "metadata": {},
   "outputs": [
    {
     "name": "stdout",
     "output_type": "stream",
     "text": [
      "0 Suraj\n",
      "1 Mary\n",
      "2 John\n",
      "3 Jane\n",
      "4 Doe\n"
     ]
    }
   ],
   "source": [
    "for index, name in enumerate(names):\n",
    "    print(index, name)"
   ]
  },
  {
   "cell_type": "code",
   "execution_count": 84,
   "id": "74bea92f-cc9e-4e3c-9d60-e9d763400215",
   "metadata": {},
   "outputs": [
    {
     "data": {
      "text/plain": [
       "<enumerate at 0x108f8a200>"
      ]
     },
     "execution_count": 84,
     "metadata": {},
     "output_type": "execute_result"
    }
   ],
   "source": [
    "enumerate(names)"
   ]
  },
  {
   "cell_type": "code",
   "execution_count": 85,
   "id": "9b537287-2121-40e5-b728-0be04df45e44",
   "metadata": {},
   "outputs": [
    {
     "name": "stdout",
     "output_type": "stream",
     "text": [
      "(0, 'Suraj')\n",
      "(1, 'Mary')\n",
      "(2, 'John')\n",
      "(3, 'Jane')\n",
      "(4, 'Doe')\n"
     ]
    }
   ],
   "source": [
    "for a in enumerate(names):\n",
    "    print(a)"
   ]
  },
  {
   "cell_type": "code",
   "execution_count": 86,
   "id": "997e1a65-e429-4a8d-b240-b927b5937a2f",
   "metadata": {},
   "outputs": [
    {
     "name": "stdout",
     "output_type": "stream",
     "text": [
      "0\n",
      "1\n",
      "2\n",
      "3\n",
      "4\n"
     ]
    }
   ],
   "source": [
    "counter = 0\n",
    "while counter < 5:\n",
    "    print(counter)\n",
    "    counter += 1"
   ]
  },
  {
   "cell_type": "code",
   "execution_count": 91,
   "id": "5f3077f3-6724-440a-a640-f649d73ec1df",
   "metadata": {},
   "outputs": [],
   "source": [
    "input_list = [1,2,3,4,5]\n",
    "output_list = []\n",
    "for i in input_list:\n",
    "    output_list.append(i ** 2)"
   ]
  },
  {
   "cell_type": "code",
   "execution_count": 92,
   "id": "4ec3e78d-6646-4308-ad36-1076c194b57b",
   "metadata": {},
   "outputs": [
    {
     "data": {
      "text/plain": [
       "[1, 4, 9, 16, 25]"
      ]
     },
     "execution_count": 92,
     "metadata": {},
     "output_type": "execute_result"
    }
   ],
   "source": [
    "output_list"
   ]
  },
  {
   "cell_type": "code",
   "execution_count": 93,
   "id": "b04cc694-8ce8-43a7-b599-10cca01d32ac",
   "metadata": {},
   "outputs": [],
   "source": [
    "outputlist_2 = [i ** 2 for i in input_list]"
   ]
  },
  {
   "cell_type": "code",
   "execution_count": 90,
   "id": "c0d78547-f279-4f2f-9b6d-96e48ec0bc57",
   "metadata": {},
   "outputs": [
    {
     "data": {
      "text/plain": [
       "[1, 4, 9, 16, 25]"
      ]
     },
     "execution_count": 90,
     "metadata": {},
     "output_type": "execute_result"
    }
   ],
   "source": [
    "outputlist_2"
   ]
  },
  {
   "cell_type": "code",
   "execution_count": 94,
   "id": "605377a1-c47b-460f-8ff9-be7a61b7f2c6",
   "metadata": {},
   "outputs": [],
   "source": [
    "import requests"
   ]
  },
  {
   "cell_type": "code",
   "execution_count": 100,
   "id": "c26c4c64-6b46-4881-85b4-c1098d842536",
   "metadata": {},
   "outputs": [],
   "source": [
    "response = requests.get(\"https://swapi.dev/api/people\", verify = False)"
   ]
  },
  {
   "cell_type": "code",
   "execution_count": 101,
   "id": "3c340ee9-1bfd-4e97-8b19-0da03d59ec73",
   "metadata": {},
   "outputs": [],
   "source": [
    "resp = response.json()"
   ]
  },
  {
   "cell_type": "code",
   "execution_count": 106,
   "id": "c4f18525-e410-4d1f-affe-f65cbc9329eb",
   "metadata": {
    "scrolled": true
   },
   "outputs": [
    {
     "data": {
      "text/plain": [
       "{'count': 82,\n",
       " 'next': 'https://swapi.dev/api/people/?page=2',\n",
       " 'previous': None,\n",
       " 'results': [{'name': 'Luke Skywalker',\n",
       "   'height': '172',\n",
       "   'mass': '77',\n",
       "   'hair_color': 'blond',\n",
       "   'skin_color': 'fair',\n",
       "   'eye_color': 'blue',\n",
       "   'birth_year': '19BBY',\n",
       "   'gender': 'male',\n",
       "   'homeworld': 'https://swapi.dev/api/planets/1/',\n",
       "   'films': ['https://swapi.dev/api/films/1/',\n",
       "    'https://swapi.dev/api/films/2/',\n",
       "    'https://swapi.dev/api/films/3/',\n",
       "    'https://swapi.dev/api/films/6/'],\n",
       "   'species': [],\n",
       "   'vehicles': ['https://swapi.dev/api/vehicles/14/',\n",
       "    'https://swapi.dev/api/vehicles/30/'],\n",
       "   'starships': ['https://swapi.dev/api/starships/12/',\n",
       "    'https://swapi.dev/api/starships/22/'],\n",
       "   'created': '2014-12-09T13:50:51.644000Z',\n",
       "   'edited': '2014-12-20T21:17:56.891000Z',\n",
       "   'url': 'https://swapi.dev/api/people/1/'},\n",
       "  {'name': 'C-3PO',\n",
       "   'height': '167',\n",
       "   'mass': '75',\n",
       "   'hair_color': 'n/a',\n",
       "   'skin_color': 'gold',\n",
       "   'eye_color': 'yellow',\n",
       "   'birth_year': '112BBY',\n",
       "   'gender': 'n/a',\n",
       "   'homeworld': 'https://swapi.dev/api/planets/1/',\n",
       "   'films': ['https://swapi.dev/api/films/1/',\n",
       "    'https://swapi.dev/api/films/2/',\n",
       "    'https://swapi.dev/api/films/3/',\n",
       "    'https://swapi.dev/api/films/4/',\n",
       "    'https://swapi.dev/api/films/5/',\n",
       "    'https://swapi.dev/api/films/6/'],\n",
       "   'species': ['https://swapi.dev/api/species/2/'],\n",
       "   'vehicles': [],\n",
       "   'starships': [],\n",
       "   'created': '2014-12-10T15:10:51.357000Z',\n",
       "   'edited': '2014-12-20T21:17:50.309000Z',\n",
       "   'url': 'https://swapi.dev/api/people/2/'},\n",
       "  {'name': 'R2-D2',\n",
       "   'height': '96',\n",
       "   'mass': '32',\n",
       "   'hair_color': 'n/a',\n",
       "   'skin_color': 'white, blue',\n",
       "   'eye_color': 'red',\n",
       "   'birth_year': '33BBY',\n",
       "   'gender': 'n/a',\n",
       "   'homeworld': 'https://swapi.dev/api/planets/8/',\n",
       "   'films': ['https://swapi.dev/api/films/1/',\n",
       "    'https://swapi.dev/api/films/2/',\n",
       "    'https://swapi.dev/api/films/3/',\n",
       "    'https://swapi.dev/api/films/4/',\n",
       "    'https://swapi.dev/api/films/5/',\n",
       "    'https://swapi.dev/api/films/6/'],\n",
       "   'species': ['https://swapi.dev/api/species/2/'],\n",
       "   'vehicles': [],\n",
       "   'starships': [],\n",
       "   'created': '2014-12-10T15:11:50.376000Z',\n",
       "   'edited': '2014-12-20T21:17:50.311000Z',\n",
       "   'url': 'https://swapi.dev/api/people/3/'},\n",
       "  {'name': 'Darth Vader',\n",
       "   'height': '202',\n",
       "   'mass': '136',\n",
       "   'hair_color': 'none',\n",
       "   'skin_color': 'white',\n",
       "   'eye_color': 'yellow',\n",
       "   'birth_year': '41.9BBY',\n",
       "   'gender': 'male',\n",
       "   'homeworld': 'https://swapi.dev/api/planets/1/',\n",
       "   'films': ['https://swapi.dev/api/films/1/',\n",
       "    'https://swapi.dev/api/films/2/',\n",
       "    'https://swapi.dev/api/films/3/',\n",
       "    'https://swapi.dev/api/films/6/'],\n",
       "   'species': [],\n",
       "   'vehicles': [],\n",
       "   'starships': ['https://swapi.dev/api/starships/13/'],\n",
       "   'created': '2014-12-10T15:18:20.704000Z',\n",
       "   'edited': '2014-12-20T21:17:50.313000Z',\n",
       "   'url': 'https://swapi.dev/api/people/4/'},\n",
       "  {'name': 'Leia Organa',\n",
       "   'height': '150',\n",
       "   'mass': '49',\n",
       "   'hair_color': 'brown',\n",
       "   'skin_color': 'light',\n",
       "   'eye_color': 'brown',\n",
       "   'birth_year': '19BBY',\n",
       "   'gender': 'female',\n",
       "   'homeworld': 'https://swapi.dev/api/planets/2/',\n",
       "   'films': ['https://swapi.dev/api/films/1/',\n",
       "    'https://swapi.dev/api/films/2/',\n",
       "    'https://swapi.dev/api/films/3/',\n",
       "    'https://swapi.dev/api/films/6/'],\n",
       "   'species': [],\n",
       "   'vehicles': ['https://swapi.dev/api/vehicles/30/'],\n",
       "   'starships': [],\n",
       "   'created': '2014-12-10T15:20:09.791000Z',\n",
       "   'edited': '2014-12-20T21:17:50.315000Z',\n",
       "   'url': 'https://swapi.dev/api/people/5/'},\n",
       "  {'name': 'Owen Lars',\n",
       "   'height': '178',\n",
       "   'mass': '120',\n",
       "   'hair_color': 'brown, grey',\n",
       "   'skin_color': 'light',\n",
       "   'eye_color': 'blue',\n",
       "   'birth_year': '52BBY',\n",
       "   'gender': 'male',\n",
       "   'homeworld': 'https://swapi.dev/api/planets/1/',\n",
       "   'films': ['https://swapi.dev/api/films/1/',\n",
       "    'https://swapi.dev/api/films/5/',\n",
       "    'https://swapi.dev/api/films/6/'],\n",
       "   'species': [],\n",
       "   'vehicles': [],\n",
       "   'starships': [],\n",
       "   'created': '2014-12-10T15:52:14.024000Z',\n",
       "   'edited': '2014-12-20T21:17:50.317000Z',\n",
       "   'url': 'https://swapi.dev/api/people/6/'},\n",
       "  {'name': 'Beru Whitesun lars',\n",
       "   'height': '165',\n",
       "   'mass': '75',\n",
       "   'hair_color': 'brown',\n",
       "   'skin_color': 'light',\n",
       "   'eye_color': 'blue',\n",
       "   'birth_year': '47BBY',\n",
       "   'gender': 'female',\n",
       "   'homeworld': 'https://swapi.dev/api/planets/1/',\n",
       "   'films': ['https://swapi.dev/api/films/1/',\n",
       "    'https://swapi.dev/api/films/5/',\n",
       "    'https://swapi.dev/api/films/6/'],\n",
       "   'species': [],\n",
       "   'vehicles': [],\n",
       "   'starships': [],\n",
       "   'created': '2014-12-10T15:53:41.121000Z',\n",
       "   'edited': '2014-12-20T21:17:50.319000Z',\n",
       "   'url': 'https://swapi.dev/api/people/7/'},\n",
       "  {'name': 'R5-D4',\n",
       "   'height': '97',\n",
       "   'mass': '32',\n",
       "   'hair_color': 'n/a',\n",
       "   'skin_color': 'white, red',\n",
       "   'eye_color': 'red',\n",
       "   'birth_year': 'unknown',\n",
       "   'gender': 'n/a',\n",
       "   'homeworld': 'https://swapi.dev/api/planets/1/',\n",
       "   'films': ['https://swapi.dev/api/films/1/'],\n",
       "   'species': ['https://swapi.dev/api/species/2/'],\n",
       "   'vehicles': [],\n",
       "   'starships': [],\n",
       "   'created': '2014-12-10T15:57:50.959000Z',\n",
       "   'edited': '2014-12-20T21:17:50.321000Z',\n",
       "   'url': 'https://swapi.dev/api/people/8/'},\n",
       "  {'name': 'Biggs Darklighter',\n",
       "   'height': '183',\n",
       "   'mass': '84',\n",
       "   'hair_color': 'black',\n",
       "   'skin_color': 'light',\n",
       "   'eye_color': 'brown',\n",
       "   'birth_year': '24BBY',\n",
       "   'gender': 'male',\n",
       "   'homeworld': 'https://swapi.dev/api/planets/1/',\n",
       "   'films': ['https://swapi.dev/api/films/1/'],\n",
       "   'species': [],\n",
       "   'vehicles': [],\n",
       "   'starships': ['https://swapi.dev/api/starships/12/'],\n",
       "   'created': '2014-12-10T15:59:50.509000Z',\n",
       "   'edited': '2014-12-20T21:17:50.323000Z',\n",
       "   'url': 'https://swapi.dev/api/people/9/'},\n",
       "  {'name': 'Obi-Wan Kenobi',\n",
       "   'height': '182',\n",
       "   'mass': '77',\n",
       "   'hair_color': 'auburn, white',\n",
       "   'skin_color': 'fair',\n",
       "   'eye_color': 'blue-gray',\n",
       "   'birth_year': '57BBY',\n",
       "   'gender': 'male',\n",
       "   'homeworld': 'https://swapi.dev/api/planets/20/',\n",
       "   'films': ['https://swapi.dev/api/films/1/',\n",
       "    'https://swapi.dev/api/films/2/',\n",
       "    'https://swapi.dev/api/films/3/',\n",
       "    'https://swapi.dev/api/films/4/',\n",
       "    'https://swapi.dev/api/films/5/',\n",
       "    'https://swapi.dev/api/films/6/'],\n",
       "   'species': [],\n",
       "   'vehicles': ['https://swapi.dev/api/vehicles/38/'],\n",
       "   'starships': ['https://swapi.dev/api/starships/48/',\n",
       "    'https://swapi.dev/api/starships/59/',\n",
       "    'https://swapi.dev/api/starships/64/',\n",
       "    'https://swapi.dev/api/starships/65/',\n",
       "    'https://swapi.dev/api/starships/74/'],\n",
       "   'created': '2014-12-10T16:16:29.192000Z',\n",
       "   'edited': '2014-12-20T21:17:50.325000Z',\n",
       "   'url': 'https://swapi.dev/api/people/10/'}]}"
      ]
     },
     "execution_count": 106,
     "metadata": {},
     "output_type": "execute_result"
    }
   ],
   "source": [
    "resp"
   ]
  },
  {
   "cell_type": "code",
   "execution_count": 103,
   "id": "fd26d146-cfc6-4053-851c-095b19c1fb56",
   "metadata": {},
   "outputs": [],
   "source": [
    "names = [item['name'] for item in resp['results']]"
   ]
  },
  {
   "cell_type": "code",
   "execution_count": 104,
   "id": "ce5d7d5b-c469-4e83-a66d-6bbaaec46368",
   "metadata": {},
   "outputs": [
    {
     "data": {
      "text/plain": [
       "['Luke Skywalker',\n",
       " 'C-3PO',\n",
       " 'R2-D2',\n",
       " 'Darth Vader',\n",
       " 'Leia Organa',\n",
       " 'Owen Lars',\n",
       " 'Beru Whitesun lars',\n",
       " 'R5-D4',\n",
       " 'Biggs Darklighter',\n",
       " 'Obi-Wan Kenobi']"
      ]
     },
     "execution_count": 104,
     "metadata": {},
     "output_type": "execute_result"
    }
   ],
   "source": [
    "names"
   ]
  },
  {
   "cell_type": "code",
   "execution_count": 107,
   "id": "387b7fb5-36b4-4e2e-8983-523bf9df5646",
   "metadata": {},
   "outputs": [],
   "source": [
    "# break; continue"
   ]
  },
  {
   "cell_type": "code",
   "execution_count": 111,
   "id": "6dc43c7b-69d0-4998-b86e-587b5f4d97b0",
   "metadata": {},
   "outputs": [
    {
     "name": "stdout",
     "output_type": "stream",
     "text": [
      "Luke Skywalker\n",
      "C-3PO\n",
      "R2-D2\n",
      "Encounmtered villan. breaking\n"
     ]
    }
   ],
   "source": [
    "for name in names:\n",
    "    if name.startswith(\"Darth\"):\n",
    "        print(\"Encounmtered villan. breaking\")\n",
    "        break\n",
    "    else:\n",
    "        print(name)"
   ]
  },
  {
   "cell_type": "code",
   "execution_count": 112,
   "id": "1cf71bc9-239f-4e43-8396-275886bb46af",
   "metadata": {},
   "outputs": [
    {
     "name": "stdout",
     "output_type": "stream",
     "text": [
      "Luke Skywalker\n",
      "C-3PO\n",
      "R2-D2\n",
      "Encounmtered villan. skippingf this guy\n",
      "Leia Organa\n",
      "Owen Lars\n",
      "Beru Whitesun lars\n",
      "R5-D4\n",
      "Biggs Darklighter\n",
      "Obi-Wan Kenobi\n"
     ]
    }
   ],
   "source": [
    "for name in names:\n",
    "    if name.startswith(\"Darth\"):\n",
    "        print(\"Encounmtered villan. skippingf this guy\")\n",
    "        continue\n",
    "        print(\"ANother random print\")\n",
    "    else:\n",
    "        print(name)"
   ]
  },
  {
   "cell_type": "code",
   "execution_count": null,
   "id": "66562599-2e4c-4e0d-9ef1-e4326d57f173",
   "metadata": {},
   "outputs": [],
   "source": [
    "# You hit an API - Asynchronos Job\n",
    "\n",
    "api_complete_status = fetch_api_status()\n",
    "while api_complete_status in [\"InProgress\", \"Failed\"]:\n",
    "    api_complete_status = fetch_api_status()\n",
    "    if api_complete_status == \"Failed\":\n",
    "        break"
   ]
  },
  {
   "cell_type": "code",
   "execution_count": null,
   "id": "53c9ea4e-1e24-4c0a-a7dc-2aae86a13471",
   "metadata": {},
   "outputs": [],
   "source": [
    "# Lamdba's , map, reduce filter,\n",
    "# Functions, Decorators"
   ]
  }
 ],
 "metadata": {
  "kernelspec": {
   "display_name": "Python 3 (ipykernel)",
   "language": "python",
   "name": "python3"
  },
  "language_info": {
   "codemirror_mode": {
    "name": "ipython",
    "version": 3
   },
   "file_extension": ".py",
   "mimetype": "text/x-python",
   "name": "python",
   "nbconvert_exporter": "python",
   "pygments_lexer": "ipython3",
   "version": "3.14.0"
  }
 },
 "nbformat": 4,
 "nbformat_minor": 5
}

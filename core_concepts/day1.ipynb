{
 "cells": [
  {
   "cell_type": "code",
   "execution_count": 1,
   "id": "df088bcd-5c09-438f-9e49-dcc69f4cc85a",
   "metadata": {},
   "outputs": [],
   "source": [
    "message = \"Hello World!\""
   ]
  },
  {
   "cell_type": "code",
   "execution_count": 5,
   "id": "9ee12c7d-bdb2-4359-ba17-e1b84edd0a22",
   "metadata": {},
   "outputs": [],
   "source": [
    "message = 10\n",
    "counter = 1\n",
    "first_name = \"Suraj\"\n",
    "last_name = \"P\""
   ]
  },
  {
   "cell_type": "code",
   "execution_count": 3,
   "id": "9d49e425-e90d-45ea-8940-460814ffee16",
   "metadata": {},
   "outputs": [
    {
     "name": "stdout",
     "output_type": "stream",
     "text": [
      "10\n"
     ]
    }
   ],
   "source": [
    "print(message)"
   ]
  },
  {
   "cell_type": "code",
   "execution_count": 4,
   "id": "c10c9f05-00e7-4370-a090-b2f80e37e39d",
   "metadata": {},
   "outputs": [],
   "source": [
    "a = 10\n",
    "b = 20\n",
    "c = a + b"
   ]
  },
  {
   "cell_type": "code",
   "execution_count": 12,
   "id": "fcaaa9f5-8607-4f42-a7d1-17309149c377",
   "metadata": {},
   "outputs": [],
   "source": [
    "# Integers\n",
    "counter = 10\n",
    "\n",
    "# Float\n",
    "salalry = 23.6\n",
    "\n",
    "# Strings\n",
    "full_name = \"John Doe\"\n",
    "\n",
    "# Bool values\n",
    "# True or False\n",
    "flag = True"
   ]
  },
  {
   "cell_type": "code",
   "execution_count": 20,
   "id": "5e331d0d-bdc4-468f-8900-4239e6fd6d32",
   "metadata": {},
   "outputs": [
    {
     "data": {
      "text/plain": [
       "bool"
      ]
     },
     "execution_count": 20,
     "metadata": {},
     "output_type": "execute_result"
    }
   ],
   "source": [
    "type(flag)"
   ]
  },
  {
   "cell_type": "code",
   "execution_count": 22,
   "id": "e9a8adbe-26c1-48ea-9eeb-cb4e86ec7a8d",
   "metadata": {},
   "outputs": [
    {
     "data": {
      "text/plain": [
       "False"
      ]
     },
     "execution_count": 22,
     "metadata": {},
     "output_type": "execute_result"
    }
   ],
   "source": [
    "isinstance(flag, str)"
   ]
  },
  {
   "cell_type": "code",
   "execution_count": 7,
   "id": "35323a4b-fa08-4939-ab3d-2a49873f04c0",
   "metadata": {},
   "outputs": [],
   "source": [
    "# = is the assignment operator\n",
    "# assign multiple values once\n",
    "\n",
    "first_name, last_name = \"John\", \"Doe\""
   ]
  },
  {
   "cell_type": "code",
   "execution_count": 8,
   "id": "46a017b9-d572-4a54-81b0-82e1738b3b25",
   "metadata": {},
   "outputs": [
    {
     "name": "stdout",
     "output_type": "stream",
     "text": [
      "John\n",
      "Doe\n"
     ]
    }
   ],
   "source": [
    "print(first_name)\n",
    "print(last_name)"
   ]
  },
  {
   "cell_type": "code",
   "execution_count": 9,
   "id": "45399ded-0eae-4d84-8807-11f98b65e4ec",
   "metadata": {},
   "outputs": [],
   "source": [
    "salary_1 = salary_2 = 30.5 # Chained assignment"
   ]
  },
  {
   "cell_type": "code",
   "execution_count": 10,
   "id": "4f942dae-d290-4e6c-aecf-ee94fa99a2d7",
   "metadata": {},
   "outputs": [],
   "source": [
    "first_name, last_name = last_name, first_name"
   ]
  },
  {
   "cell_type": "code",
   "execution_count": 11,
   "id": "e6641ea9-ef0c-43b9-b044-21437f42cad8",
   "metadata": {},
   "outputs": [
    {
     "name": "stdout",
     "output_type": "stream",
     "text": [
      "Doe\n",
      "John\n"
     ]
    }
   ],
   "source": [
    "print(first_name)\n",
    "print(last_name)"
   ]
  },
  {
   "cell_type": "code",
   "execution_count": 26,
   "id": "4bb4e718-9f9e-4017-8a29-f439c992e528",
   "metadata": {},
   "outputs": [
    {
     "name": "stdout",
     "output_type": "stream",
     "text": [
      "1\n"
     ]
    }
   ],
   "source": [
    "# Arithmetic operators - +, -, *, /, //, %, **\n",
    "\n",
    "counter_1 = 2\n",
    "counter_2 = 1\n",
    "\n",
    "counter_3 = counter_1 - counter_2\n",
    "print(counter_3)"
   ]
  },
  {
   "cell_type": "code",
   "execution_count": 34,
   "id": "c2a34c7e-5fb4-463b-a1d6-4f1843b93fe9",
   "metadata": {},
   "outputs": [
    {
     "data": {
      "text/plain": [
       "True"
      ]
     },
     "execution_count": 34,
     "metadata": {},
     "output_type": "execute_result"
    }
   ],
   "source": [
    "# comparison operators, ==, !=, >=, <=, ===\n",
    "counter_1 == counter_2\n",
    "counter_1 != counter_2"
   ]
  },
  {
   "cell_type": "code",
   "execution_count": 35,
   "id": "f1422b61-76f9-4976-a8ec-c58fa6fc3de5",
   "metadata": {},
   "outputs": [],
   "source": [
    "# identity operators - is (==) and is not (!=)"
   ]
  },
  {
   "cell_type": "code",
   "execution_count": 38,
   "id": "83e78f3f-237e-4159-9612-dee4cbcc9a11",
   "metadata": {},
   "outputs": [
    {
     "name": "stdout",
     "output_type": "stream",
     "text": [
      "True\n",
      "True\n"
     ]
    }
   ],
   "source": [
    "counter_1 = 1\n",
    "counter_2 = counter_1\n",
    "print(counter_1 is counter_2)\n",
    "print(counter_1 == counter_2)"
   ]
  },
  {
   "cell_type": "code",
   "execution_count": null,
   "id": "53079ba7-4750-4851-8d8f-5771d9c72927",
   "metadata": {},
   "outputs": [],
   "source": []
  }
 ],
 "metadata": {
  "kernelspec": {
   "display_name": "Python 3 (ipykernel)",
   "language": "python",
   "name": "python3"
  },
  "language_info": {
   "codemirror_mode": {
    "name": "ipython",
    "version": 3
   },
   "file_extension": ".py",
   "mimetype": "text/x-python",
   "name": "python",
   "nbconvert_exporter": "python",
   "pygments_lexer": "ipython3",
   "version": "3.14.0"
  }
 },
 "nbformat": 4,
 "nbformat_minor": 5
}
